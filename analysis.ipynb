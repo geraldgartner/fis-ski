{
 "cells": [
  {
   "cell_type": "code",
   "execution_count": 97,
   "metadata": {
    "collapsed": false
   },
   "outputs": [
    {
     "data": {
      "text/plain": [
       "'/home/fin/tmp/fis-ski'"
      ]
     },
     "execution_count": 97,
     "metadata": {},
     "output_type": "execute_result"
    }
   ],
   "source": [
    "import os,sys\n",
    "\n",
    "os.getcwd()"
   ]
  },
  {
   "cell_type": "code",
   "execution_count": 166,
   "metadata": {
    "collapsed": false
   },
   "outputs": [],
   "source": [
    "import unicodecsv\n",
    "\n",
    "def read_lines(reader):\n",
    "    headers = reader.next()\n",
    "    for x in reader:\n",
    "        yield dict(zip(headers,x))\n",
    "\n",
    "all_ergebnisse = []\n",
    "errorcount=0\n",
    "errors = []\n",
    "\n",
    "import re\n",
    "numbersonly = re.compile('=([0-9]+)')\n",
    "\n",
    "all_races = {}\n",
    "\n",
    "with open('fin_output.csv') as ergebnisse, open('subpages.csv') as subpages:\n",
    "    er = read_lines(unicodecsv.reader(ergebnisse))\n",
    "     \n",
    "    sr = unicodecsv.reader(subpages)\n",
    "    \n",
    "    all_races = dict((numbersonly.findall(x['url'])[0],x,) for x in read_lines(sr))\n",
    "    for r in all_races.values():\n",
    "        ds = r['date'].split('.')\n",
    "        r['year'] = ds[2]\n",
    "        r['month'] = ds[1]\n",
    "        r['day'] = ds[0]\n",
    "\n",
    "    \n",
    "    for e in er:\n",
    "        try:\n",
    "            e['race'] = all_races[numbersonly.findall(e['source_url'])[0]]\n",
    "            all_ergebnisse.append(e)\n",
    "        except:\n",
    "            errorcount+=1\n",
    "            errors.append(e)"
   ]
  },
  {
   "cell_type": "code",
   "execution_count": 167,
   "metadata": {
    "collapsed": false
   },
   "outputs": [],
   "source": [
    "def sortgroup(xs, keyfun):\n",
    "    import itertools\n",
    "    return itertools.groupby(sorted(xs,key=keyfun),key=keyfun)\n",
    "\n",
    "by_race = dict([(x,\n",
    "                 list(sorted(\n",
    "                    [z for z in y if z['Rank'] and z['Rank'].isdigit()]\n",
    "                    , key=lambda e: int(e['Rank'],10))),\n",
    "                )\n",
    "                for (x,y,) in sortgroup(all_ergebnisse, lambda x: x['source_url'])\n",
    "               ])"
   ]
  },
  {
   "cell_type": "code",
   "execution_count": 169,
   "metadata": {
    "collapsed": false
   },
   "outputs": [],
   "source": [
    "pointreplaced = 0\n",
    "\n",
    "for raceurl,finishers in by_race.iteritems():\n",
    "\n",
    "    last = None\n",
    "    for f in finishers:\n",
    "        if f['Total Time'].strip():\n",
    "            if last:\n",
    "                if ':' in last['Total Time'] and not ':' in f['Total Time']:\n",
    "                    pointreplaced+=1\n",
    "                    f['Total Time'] = f['Total Time'].replace('.',':',1)\n",
    "            if ':' in f['Total Time']:\n",
    "                minutes,rest = f['Total Time'].split(':',1)\n",
    "            else:\n",
    "                minutes = '0'\n",
    "                rest = f['Total Time']\n",
    "            \n",
    "            seconds,nths = re.split('[\\.,]',rest)\n",
    "\n",
    "            minutes = int(minutes,10)\n",
    "            seconds = int(seconds,10)\n",
    "            nths_i = int(nths,10)\n",
    "            nths_f = nths_i/(pow(10.0,len(nths)))\n",
    "            finalseconds = minutes*60 + seconds + nths_f\n",
    "\n",
    "            f['mytime'] = finalseconds\n",
    "\n",
    "            f['diff'] = f['mytime']-finishers[0]['mytime']\n",
    "            if last and hasattr(last,'mytime'):\n",
    "                if f['diff']<last['diff']:\n",
    "                    print 'time travel?'\n",
    "                    print f['Total Time'],f['mytime'],last['Total Time'],last['mytime'],f['source_url']\n",
    "                    print seconds\n",
    "                    print nths, len(nths), nths_i, nths_f\n",
    "    \n",
    "        last = f"
   ]
  },
  {
   "cell_type": "code",
   "execution_count": 329,
   "metadata": {
    "collapsed": false
   },
   "outputs": [],
   "source": [
    "with open('ergebnisse_w_diffs.csv','w') as f:\n",
    "    cw = unicodecsv.writer(f)\n",
    "    f = by_race.values()[0][0]\n",
    "    fk = f.keys()\n",
    "    rk = f['race'].keys()\n",
    "    headers = fk+rk\n",
    "    cw.writerow(headers)\n",
    "    for y in by_race.values():\n",
    "        for x in y:\n",
    "            if x['Total Time'].strip():\n",
    "                cw.writerow(\n",
    "                    [x[k] for k in fk] + [x['race'][k] for k in rk])"
   ]
  },
  {
   "cell_type": "code",
   "execution_count": 170,
   "metadata": {
    "collapsed": false
   },
   "outputs": [],
   "source": [
    "import itertools\n",
    "all_diffs = [x for x in itertools.chain(*by_race.values()) if x.get('diff',None)]"
   ]
  },
  {
   "cell_type": "code",
   "execution_count": 252,
   "metadata": {
    "collapsed": false
   },
   "outputs": [],
   "source": [
    "import collections\n",
    "\n",
    "MAX_SECONDS = 4\n",
    "\n",
    "all_fitting = {k:[{'Rank': x['Rank'],\n",
    "                   'Name': x['Name'],\n",
    "                   'Time': x['Total Time'],\n",
    "                   'diff': x['diff'],\n",
    "                   'time': x['mytime']\n",
    "                  } for x in vv if x.get('diff',None) is not None and x['diff']<=MAX_SECONDS] for k,vv in by_race.iteritems()\n",
    "               if vv}"
   ]
  },
  {
   "cell_type": "code",
   "execution_count": 253,
   "metadata": {
    "collapsed": false
   },
   "outputs": [],
   "source": [
    "result = []\n",
    "for k,v in all_fitting.iteritems():\n",
    "    if not v:\n",
    "        continue\n",
    "    r = {}\n",
    "    r.update(by_race[k][0]['race'])\n",
    "    r['ranks'] = v\n",
    "    result.append(r)"
   ]
  },
  {
   "cell_type": "code",
   "execution_count": 254,
   "metadata": {
    "collapsed": false
   },
   "outputs": [],
   "source": [
    "last_season_races = [x for x in result\n",
    " if ('2015'==x['year'] and int(x['month'],10)>6)\n",
    " or (x['year']=='2016' and int(x['month'],10)<=6)]"
   ]
  },
  {
   "cell_type": "code",
   "execution_count": 255,
   "metadata": {
    "collapsed": false
   },
   "outputs": [],
   "source": [
    "for race in last_season_races:\n",
    "    tmp = [x['diff'] for x in race['ranks'] if int(x['Rank'],10)<=5]\n",
    "    race['knappheit'] = sum(tmp)/len(tmp)\n",
    "    race['diffzweiter'] = race['ranks'][1]['diff']\n",
    "    race['finishersinnsecs'] = len([x for x in race['ranks'] if x['diff']<=MAX_SECONDS])"
   ]
  },
  {
   "cell_type": "code",
   "execution_count": 291,
   "metadata": {
    "collapsed": false
   },
   "outputs": [],
   "source": [
    "by_disc = dict((x,list(y),) for x,y in sortgroup(last_season_races,\n",
    "                                                 lambda x: '%s (%s)' % (x['disziplin'],x['gender'],)))"
   ]
  },
  {
   "cell_type": "code",
   "execution_count": 326,
   "metadata": {
    "collapsed": false
   },
   "outputs": [],
   "source": [
    "def mean(numbers):\n",
    "    return sum(numbers)/(1.0*len(numbers))\n",
    "\n",
    "MAX_RANK = 15\n",
    "\n",
    "with open('out.csv','w') as f:\n",
    "    cw = unicodecsv.writer(f)\n",
    "    \n",
    "    cw.writerow(['Disziplin','Rennen']+\n",
    "               list(itertools.chain.from_iterable([['Platz %s'%i, 'Name %s'%i] for i in xrange(1,MAX_RANK+1)])))\n",
    "\n",
    "    for disc,discraces in by_disc.iteritems():\n",
    "        closest = sorted(discraces, key=lambda x:x['diffzweiter'])[0]\n",
    "        cw.writerow([disc,'closest (%s / %s)'%(closest['ort'],closest['date'],)]+\n",
    "                    list(itertools.chain.from_iterable([\n",
    "                     [round(x['diff'],2),x['Name']]\n",
    "                      for x in closest['ranks'][:MAX_RANK+1]\n",
    "                     ]\n",
    "                   )\n",
    "                    ))\n",
    "        average = [mean([x['diff'] for x in reduce(lambda x,y: x+y, [z['ranks'] for z in discraces],[]) if int(x['Rank'],10)==y]) for y in xrange(1,MAX_RANK+1)]\n",
    "        cw.writerow([disc,'mean']+\n",
    "                    list(itertools.chain.from_iterable([\n",
    "                        [round(x,2),'%d. Platz' % (i+1)] for i,x in enumerate(average)\n",
    "                    ]))\n",
    "           )"
   ]
  },
  {
   "cell_type": "code",
   "execution_count": 325,
   "metadata": {
    "collapsed": false
   },
   "outputs": [
    {
     "data": {
      "text/plain": [
       "{u'category': u'WC',\n",
       " u'codex': u'5175',\n",
       " u'date': u'16.03.2016',\n",
       " 'day': u'16',\n",
       " 'diffzweiter': 0.12999999999999545,\n",
       " u'disziplin': u'Downhill',\n",
       " 'finishersinnsecs': 21,\n",
       " u'gender': u'L',\n",
       " 'knappheit': 0.25799999999999274,\n",
       " u'kommentar': u'',\n",
       " u'land': u'SUI',\n",
       " 'month': u'03',\n",
       " u'ort': u'St. Moritz',\n",
       " 'ranks': [{'Name': u'PUCHNER Mirjam',\n",
       "   'Rank': u'1',\n",
       "   'Time': u'1:40.93',\n",
       "   'diff': 0.0,\n",
       "   'time': 100.93},\n",
       "  {'Name': u'SUTER Fabienne',\n",
       "   'Rank': u'2',\n",
       "   'Time': u'1:41.06',\n",
       "   'diff': 0.12999999999999545,\n",
       "   'time': 101.06},\n",
       "  {'Name': u'CURTONI Elena',\n",
       "   'Rank': u'3',\n",
       "   'Time': u'1:41.10',\n",
       "   'diff': 0.1699999999999875,\n",
       "   'time': 101.1},\n",
       "  {'Name': u'GOERGL Elisabeth',\n",
       "   'Rank': u'4',\n",
       "   'Time': u'1:41.38',\n",
       "   'diff': 0.44999999999998863,\n",
       "   'time': 101.38},\n",
       "  {'Name': u'SCHNARF Johanna',\n",
       "   'Rank': u'5',\n",
       "   'Time': u'1:41.47',\n",
       "   'diff': 0.539999999999992,\n",
       "   'time': 101.47},\n",
       "  {'Name': u'STUFFER Verena',\n",
       "   'Rank': u'6',\n",
       "   'Time': u'1:41.48',\n",
       "   'diff': 0.5499999999999972,\n",
       "   'time': 101.48},\n",
       "  {'Name': u'WEIRATHER Tina',\n",
       "   'Rank': u'7',\n",
       "   'Time': u'1:41.61',\n",
       "   'diff': 0.6799999999999926,\n",
       "   'time': 101.61},\n",
       "  {'Name': u'SUTER Corinne',\n",
       "   'Rank': u'8',\n",
       "   'Time': u'1:41.63',\n",
       "   'diff': 0.6999999999999886,\n",
       "   'time': 101.63},\n",
       "  {'Name': u'KLING Kajsa',\n",
       "   'Rank': u'9',\n",
       "   'Time': u'1:41.80',\n",
       "   'diff': 0.8699999999999903,\n",
       "   'time': 101.8},\n",
       "  {'Name': u'BAILET Margot',\n",
       "   'Rank': u'10',\n",
       "   'Time': u'1:42.07',\n",
       "   'diff': 1.1399999999999864,\n",
       "   'time': 102.07},\n",
       "  {'Name': u'COOK Stacey',\n",
       "   'Rank': u'11',\n",
       "   'Time': u'1:42.11',\n",
       "   'diff': 1.1799999999999926,\n",
       "   'time': 102.11},\n",
       "  {'Name': u'SIEBENHOFER Ramona',\n",
       "   'Rank': u'11',\n",
       "   'Time': u'1:42.11',\n",
       "   'diff': 1.1799999999999926,\n",
       "   'time': 102.11},\n",
       "  {'Name': u'GUT Lara',\n",
       "   'Rank': u'13',\n",
       "   'Time': u'1:42.13',\n",
       "   'diff': 1.1999999999999886,\n",
       "   'time': 102.13},\n",
       "  {'Name': u'MIKLOS Edit',\n",
       "   'Rank': u'14',\n",
       "   'Time': u'1:42.21',\n",
       "   'diff': 1.279999999999987,\n",
       "   'time': 102.21},\n",
       "  {'Name': u'ROSS Laurenne',\n",
       "   'Rank': u'15',\n",
       "   'Time': u'1:42.22',\n",
       "   'diff': 1.289999999999992,\n",
       "   'time': 102.22},\n",
       "  {'Name': u'STUHEC Ilka',\n",
       "   'Rank': u'16',\n",
       "   'Time': u'1:42.30',\n",
       "   'diff': 1.3699999999999903,\n",
       "   'time': 102.3},\n",
       "  {'Name': u'YURKIW Larisa',\n",
       "   'Rank': u'17',\n",
       "   'Time': u'1:42.47',\n",
       "   'diff': 1.539999999999992,\n",
       "   'time': 102.47},\n",
       "  {'Name': u'FANCHINI Nadia',\n",
       "   'Rank': u'18',\n",
       "   'Time': u'1:42.63',\n",
       "   'diff': 1.6999999999999886,\n",
       "   'time': 102.63},\n",
       "  {'Name': u'HUETTER Cornelia',\n",
       "   'Rank': u'19',\n",
       "   'Time': u'1:42.97',\n",
       "   'diff': 2.039999999999992,\n",
       "   'time': 102.97},\n",
       "  {'Name': u'KIRCHGASSER Michaela',\n",
       "   'Rank': u'20',\n",
       "   'Time': u'1:43.20',\n",
       "   'diff': 2.269999999999996,\n",
       "   'time': 103.2},\n",
       "  {'Name': u'FANCHINI Elena',\n",
       "   'Rank': u'21',\n",
       "   'Time': u'1:43.56',\n",
       "   'diff': 2.6299999999999955,\n",
       "   'time': 103.56}],\n",
       " u'url': u'http://data.fis-ski.com/dynamic/results.html?sector=AL&raceid=82761',\n",
       " 'year': u'2016'}"
      ]
     },
     "execution_count": 325,
     "metadata": {},
     "output_type": "execute_result"
    }
   ],
   "source": [
    "closest"
   ]
  },
  {
   "cell_type": "code",
   "execution_count": 61,
   "metadata": {
    "collapsed": false
   },
   "outputs": [],
   "source": [
    "races_with_time = set([x['raceurl'] for x in all_ergebnisse if x['rang'].strip() and x['time'].strip()])\n",
    "races_witout_time = set([x['raceurl'] for x in all_ergebnisse if x['rang'].strip() and not x['time'].strip()])"
   ]
  },
  {
   "cell_type": "code",
   "execution_count": 63,
   "metadata": {
    "collapsed": false
   },
   "outputs": [
    {
     "data": {
      "text/plain": [
       "45"
      ]
     },
     "execution_count": 63,
     "metadata": {},
     "output_type": "execute_result"
    }
   ],
   "source": [
    "len(races_with_time & races_witout_time)"
   ]
  },
  {
   "cell_type": "code",
   "execution_count": 289,
   "metadata": {
    "collapsed": false,
    "scrolled": true
   },
   "outputs": [],
   "source": [
    "auswertungen = {\n",
    " '1': lambda x: x['Rank']=='1',\n",
    " '1 at': lambda x: x['Rank']=='1' and x['Nation']=='AUT',\n",
    " '2': lambda x: x['Rank']=='2',\n",
    " '2 at': lambda x: x['Rank']=='2' and x['Nation']=='AUT',\n",
    " '3': lambda x: x['Rank']=='3',\n",
    " '3 at': lambda x: x['Rank']=='3' and x['Nation']=='AUT',\n",
    "}\n",
    "\n",
    "all_by_disziplin = {k: list(v) for k,v in sortgroup(all_ergebnisse,\n",
    "                                                    lambda x: \n",
    "                                                    '%s (%s)' % (x['race']['disziplin'],x['race']['gender'],)\n",
    "                                                   )}\n",
    "\n",
    "auswertungen_by_disziplin = {\n",
    "    k: {aname: len(list(x for x in v if aprop(x)))\n",
    "        for aname, aprop\n",
    "        in auswertungen.iteritems()\n",
    "       }\n",
    "    for k,v in all_by_disziplin.iteritems()\n",
    "}"
   ]
  },
  {
   "cell_type": "code",
   "execution_count": 294,
   "metadata": {
    "collapsed": false
   },
   "outputs": [],
   "source": [
    "with open('allraces.csv','w') as f:\n",
    "    cw = unicodecsv.writer(f)\n",
    "    cw.writerow(['Kategorie','Platz', 'Wert'])\n",
    "    for k,v in auswertungen_by_disziplin.iteritems():\n",
    "        for k2, v2 in v.iteritems():\n",
    "            cw.writerow([k,k2,v2])"
   ]
  },
  {
   "cell_type": "code",
   "execution_count": 286,
   "metadata": {
    "collapsed": false,
    "scrolled": true
   },
   "outputs": [
    {
     "data": {
      "text/plain": [
       "{u'Bib': u'',\n",
       " u'Diff.': u'&nbsp',\n",
       " u'FIS Code': u'55198',\n",
       " u'FIS Points': u'-4.00',\n",
       " u'Name': u'DORFMEISTER Michaela',\n",
       " u'Nation': u'AUT',\n",
       " u'Rank': u'1',\n",
       " u'Run 1': u'1:07.95',\n",
       " u'Run 2': u'1:11.93',\n",
       " u'Total Time': u'2:19.88',\n",
       " u'Year': u'1973',\n",
       " 'diff': 0.0,\n",
       " 'mytime': 139.88,\n",
       " 'race': {u'category': u'WC',\n",
       "  u'codex': u'5127',\n",
       "  u'date': u'09.12.2000',\n",
       "  'day': u'09',\n",
       "  u'disziplin': u'Giant Slalom',\n",
       "  u'gender': u'L',\n",
       "  u'kommentar': u'Val d Is\\xe8re06.12',\n",
       "  u'land': u'ITA',\n",
       "  'month': u'12',\n",
       "  u'ort': u'Sestriere',\n",
       "  u'url': u'http://data.fis-ski.com/dynamic/results.html?sector=AL&raceid=13100',\n",
       "  'year': u'2000'},\n",
       " u'source_url': u'http://data.fis-ski.com/dynamic/results.html?sector=AL&raceid=13100'}"
      ]
     },
     "execution_count": 286,
     "metadata": {},
     "output_type": "execute_result"
    }
   ],
   "source": [
    "all_ergebnisse[0]"
   ]
  }
 ],
 "metadata": {
  "kernelspec": {
   "display_name": "Python 2",
   "language": "python",
   "name": "python2"
  },
  "language_info": {
   "codemirror_mode": {
    "name": "ipython",
    "version": 2
   },
   "file_extension": ".py",
   "mimetype": "text/x-python",
   "name": "python",
   "nbconvert_exporter": "python",
   "pygments_lexer": "ipython2",
   "version": "2.7.12"
  }
 },
 "nbformat": 4,
 "nbformat_minor": 0
}
