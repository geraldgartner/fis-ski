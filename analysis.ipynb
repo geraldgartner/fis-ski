{
 "cells": [
  {
   "cell_type": "code",
   "execution_count": 1,
   "metadata": {
    "collapsed": false
   },
   "outputs": [
    {
     "data": {
      "text/plain": [
       "'/home/fin/tmp/fis-ski'"
      ]
     },
     "execution_count": 1,
     "metadata": {},
     "output_type": "execute_result"
    }
   ],
   "source": [
    "import os,sys\n",
    "import math\n",
    "import pandas as pd\n",
    "import numpy as np\n",
    "\n",
    "\n",
    "os.getcwd()"
   ]
  },
  {
   "cell_type": "code",
   "execution_count": 2,
   "metadata": {
    "collapsed": false
   },
   "outputs": [
    {
     "name": "stderr",
     "output_type": "stream",
     "text": [
      "/home/fin/tmp/fis-ski/.venv/local/lib/python2.7/site-packages/IPython/core/interactiveshell.py:2717: DtypeWarning: Columns (6,16,19,25) have mixed types. Specify dtype option on import or set low_memory=False.\n",
      "  interactivity=interactivity, compiler=compiler, result=result)\n"
     ]
    }
   ],
   "source": [
    "import unicodecsv\n",
    "\n",
    "def read_lines(reader):\n",
    "    headers = reader.next()\n",
    "    for x in reader:\n",
    "        yield dict(zip(headers,x))\n",
    "\n",
    "errorcount=0\n",
    "errors = []\n",
    "\n",
    "import re\n",
    "numbersonly = re.compile('=([0-9]+)')\n",
    "\n",
    "all_races = {}\n",
    "\n",
    "ergebnisse =  pd.read_csv('fin_output_2.csv', dtype={\"Total Time\": object})\n",
    "\n",
    "ergebnisse = ergebnisse.join(pd.DataFrame([x.split('.') for x in ergebnisse['subevent_Date']],columns=['day','month','year']))\n",
    "ergebnisse['date'] = ergebnisse['subevent_Date']\n",
    "\n",
    "#all_ergebnisse = ergebnisse.to_dict('records')"
   ]
  },
  {
   "cell_type": "markdown",
   "metadata": {
    "collapsed": false
   },
   "source": [
    "def sortgroup(xs, keyfun):\n",
    "    import itertools\n",
    "    return itertools.groupby(sorted(xs,key=keyfun),key=keyfun)\n",
    "\n",
    "by_race = dict([(x,\n",
    "                 list(sorted(\n",
    "                    [z for z in y if z['Rank'] and z['Rank'].isdigit()]\n",
    "                    , key=lambda e: int(e['Rank'],10))),\n",
    "                )\n",
    "                for (x,y,) in sortgroup(all_ergebnisse, lambda x: x['source_url'])\n",
    "               ])"
   ]
  },
  {
   "cell_type": "code",
   "execution_count": 3,
   "metadata": {
    "collapsed": false
   },
   "outputs": [],
   "source": [
    "def extract_time(tt):\n",
    "    if not type(tt)==float and tt.strip() and '?' not in tt:\n",
    "        if ':' in tt:\n",
    "            minutes,rest = tt.split(':',1)\n",
    "        else:\n",
    "            minutes = '0'\n",
    "            rest = tt\n",
    "\n",
    "        try:\n",
    "            seconds,nths = re.split('[\\.,]',rest)\n",
    "        except(ValueError,e):\n",
    "            seconds = rest\n",
    "            nths = '0'\n",
    "\n",
    "        minutes = int(minutes,10)\n",
    "        seconds = int(seconds,10)\n",
    "        nths_i = int(nths,10)\n",
    "        nths_f = nths_i/(pow(10.0,len(nths)))\n",
    "        finalseconds = minutes*60 + seconds + nths_f\n",
    "\n",
    "\n",
    "        return finalseconds\n",
    "    return np.NaN"
   ]
  },
  {
   "cell_type": "markdown",
   "metadata": {},
   "source": [
    "ergebnisse['mytime'] = [extract_time(x) for x in ergebnisse['Total Time']]\n"
   ]
  },
  {
   "cell_type": "markdown",
   "metadata": {},
   "source": [
    "ergebnisse['diff'] = [x[1]['mytime'] - ergebnisse[ergebnisse['source_url']==x[1]['source_url']].iloc[0]['mytime'] for x in ergebnisse.iterrows()]"
   ]
  },
  {
   "cell_type": "markdown",
   "metadata": {},
   "source": [
    "ergebnisse['diff']"
   ]
  },
  {
   "cell_type": "markdown",
   "metadata": {
    "collapsed": false
   },
   "source": [
    "pointreplaced = 0\n",
    "\n",
    "for raceurl,finishers in by_race.iteritems():\n",
    "\n",
    "    last = None\n",
    "    for f in finishers:\n",
    "        f['rang'] = int(f['Rank'],10)\n",
    "\n",
    "\n",
    "\n",
    "            f['diff'] = f['mytime']-finishers[0]['mytime']\n",
    "            if last and hasattr(last,'mytime'):\n",
    "                if f['diff']<last['diff']:\n",
    "                    print('time travel?')\n",
    "                    print(f['Total Time'],f['mytime'],last['Total Time'],last['mytime'],f['source_url'])\n",
    "                    print(seconds)\n",
    "                    print(nths, len(nths), nths_i, nths_f)\n",
    "    \n",
    "        last = f"
   ]
  },
  {
   "cell_type": "code",
   "execution_count": 4,
   "metadata": {
    "collapsed": false
   },
   "outputs": [],
   "source": [
    "df = ergebnisse\n",
    "#df.to_csv('tmp.csv',encoding='utf-8')\n",
    "df = df[~df['subevent_Discipline'].str.contains('training')]\n",
    "df = df[df['subevent_Category']=='WSC']\n",
    "#df_with_diffs = df[pd.isnull(df['diff'])]\n",
    "df_with_rank = df[~pd.isnull(df['Rank'])]"
   ]
  },
  {
   "cell_type": "code",
   "execution_count": 5,
   "metadata": {
    "collapsed": false
   },
   "outputs": [],
   "source": [
    "df_with_rank[df_with_rank['month']==8].to_csv('tmp.csv',encoding='utf-8')"
   ]
  },
  {
   "cell_type": "code",
   "execution_count": 6,
   "metadata": {
    "collapsed": false
   },
   "outputs": [
    {
     "name": "stderr",
     "output_type": "stream",
     "text": [
      "/home/fin/tmp/fis-ski/.venv/lib/python2.7/site-packages/ipykernel/__main__.py:11: SettingWithCopyWarning: \n",
      "A value is trying to be set on a copy of a slice from a DataFrame.\n",
      "Try using .loc[row_indexer,col_indexer] = value instead\n",
      "\n",
      "See the caveats in the documentation: http://pandas.pydata.org/pandas-docs/stable/indexing.html#indexing-view-versus-copy\n"
     ]
    }
   ],
   "source": [
    "disziplinnamen = {\n",
    "    'combined': 'Kombination',\n",
    "    'alpine combined': 'Kombination',\n",
    "    'downhill': 'Abfahrt',\n",
    "    'slalom': 'Slalom',\n",
    "    'giant slalom': 'Riesentorlauf',\n",
    "    'super g': 'Super-G',\n",
    "    'team': 'Team',\n",
    "    'super combined': 'Kombination'\n",
    "}\n",
    "df_with_rank['subevent_Discipline'] = [disziplinnamen[x.lower()] for x in df_with_rank['subevent_Discipline']]"
   ]
  },
  {
   "cell_type": "code",
   "execution_count": 7,
   "metadata": {
    "collapsed": false
   },
   "outputs": [
    {
     "name": "stdout",
     "output_type": "stream",
     "text": [
      "abfahrt\n",
      "kombination\n",
      "riesentorlauf\n",
      "slalom\n",
      "super-g\n",
      "team\n"
     ]
    },
    {
     "name": "stderr",
     "output_type": "stream",
     "text": [
      "/home/fin/tmp/fis-ski/.venv/lib/python2.7/site-packages/ipykernel/__main__.py:1: FutureWarning: convert_objects is deprecated.  Use the data-type specific converters pd.to_datetime, pd.to_timedelta and pd.to_numeric.\n",
      "  if __name__ == '__main__':\n"
     ]
    }
   ],
   "source": [
    "stockerl = df_with_rank[(df_with_rank['Rank'].convert_objects(convert_numeric=True)<=3)\n",
    "             & ~df_with_rank['subevent_Discipline'].str.contains('combin')\n",
    "            ][['Name','Rank','Nation','subevent_Discipline','subevent_Gender','year']]\n",
    "for k,v in stockerl.groupby('subevent_Discipline'):\n",
    "    fn = k.lower().replace(' ','_')\n",
    "    print(fn)\n",
    "    v.rename(columns=lambda x: x.replace('subevent_','').lower()).to_csv('out/'+fn+'.csv',encoding='utf-8',index=False)"
   ]
  },
  {
   "cell_type": "markdown",
   "metadata": {
    "collapsed": false
   },
   "source": [
    "with open('ergebnisse_w_diffs.csv','w') as f:\n",
    "    cw = unicodecsv.writer(f)\n",
    "    f = by_race.values()[0][0]\n",
    "    fk = [x for x in f.keys() if x!='race' and x!='source_url']\n",
    "    rk = []#f['race'].keys()\n",
    "    headers = fk+rk\n",
    "    cw.writerow(headers)\n",
    "    for y in by_race.values():\n",
    "        for x in y:\n",
    "            if x['Total Time'].strip():\n",
    "                cw.writerow(\n",
    "                    [x[k] for k in fk] + [x['race'][k] for k in rk])"
   ]
  },
  {
   "cell_type": "markdown",
   "metadata": {
    "collapsed": false
   },
   "source": [
    "import itertools\n",
    "all_diffs = [x for x in itertools.chain(*by_race.values()) if x.get('diff',None)]"
   ]
  },
  {
   "cell_type": "markdown",
   "metadata": {
    "collapsed": false
   },
   "source": [
    "import collections\n",
    "\n",
    "MAX_SECONDS = 4\n",
    "\n",
    "all_fitting = {k:[{'Rank': x['Rank'],\n",
    "                   'Name': x['Name'],\n",
    "                   'Time': x['Total Time'],\n",
    "                   'diff': x['diff'],\n",
    "                   'time': x['mytime'],\n",
    "                   'race': x,\n",
    "                  } for x in vv if x.get('diff',None) is not None and x['diff']<=MAX_SECONDS] for k,vv in by_race.iteritems()\n",
    "               if vv}"
   ]
  },
  {
   "cell_type": "markdown",
   "metadata": {
    "collapsed": false
   },
   "source": [
    "result = []\n",
    "for k,v in all_fitting.iteritems():\n",
    "    if not v:\n",
    "        continue\n",
    "    r = {}\n",
    "    r.update(v[0]['race'])\n",
    "    r['year'] = v[0]['race']['year']\n",
    "    r['month'] = v[0]['race']['month']\n",
    "    r['ranks'] = v\n",
    "    result.append(r)\n",
    "#result = all_fitting.values()"
   ]
  },
  {
   "cell_type": "markdown",
   "metadata": {
    "collapsed": false
   },
   "source": [
    "last_season_races = [x for x in result\n",
    " if ('2016'==x['year'] and int(x['month'],10)>6)\n",
    " or (x['year']=='2017' and int(x['month'],10)<=6)]"
   ]
  },
  {
   "cell_type": "markdown",
   "metadata": {
    "collapsed": false
   },
   "source": [
    "df_with_rank[df_with_rank['year']==2016].to_csv('tmp.csv',encoding='utf-8')"
   ]
  },
  {
   "cell_type": "markdown",
   "metadata": {
    "collapsed": false
   },
   "source": [
    "for race in last_season_races:\n",
    "    tmp = [x['diff'] for x in race['ranks'] if int(x['Rank'],10)<=5]\n",
    "    race['knappheit'] = sum(tmp)/len(tmp)\n",
    "    race['diffzweiter'] = race['ranks'][1]['diff']\n",
    "    race['finishersinnsecs'] = len([x for x in race['ranks'] if x['diff']<=MAX_SECONDS])"
   ]
  },
  {
   "cell_type": "markdown",
   "metadata": {
    "collapsed": false
   },
   "source": [
    "by_disc = dict((x,list(y),) for x,y in sortgroup(last_season_races,\n",
    "                                                 lambda x: '%s (%s)' % (x['disziplin'],x['gender'],)))"
   ]
  },
  {
   "cell_type": "markdown",
   "metadata": {
    "collapsed": false
   },
   "source": [
    "def mean(numbers):\n",
    "    return sum(numbers)/(1.0*len(numbers))\n",
    "\n",
    "MAX_RANK = 15\n",
    "\n",
    "with open('out.csv','w') as f, open('debug.csv','w') as f2:\n",
    "    cw = unicodecsv.writer(f)\n",
    "    cw2 = unicodecsv.writer(f2)\n",
    "    \n",
    "    cw.writerow(['Disziplin','Rennen']+\n",
    "               list(itertools.chain.from_iterable([['Platz %s'%i, 'Name %s'%i] for i in xrange(1,MAX_RANK+1)])))\n",
    "\n",
    "    for disc,discraces in by_disc.iteritems():\n",
    "        closest = sorted(discraces, key=lambda x:x['diffzweiter'])[0]\n",
    "        cw.writerow([disc,'closest (%s / %s)'%(closest['ort'],closest['date'],)]+\n",
    "                    list(itertools.chain.from_iterable([\n",
    "                     [round(x['diff'],2),x['Name']]\n",
    "                      for x in closest['ranks'][:MAX_RANK+1]\n",
    "                     ]\n",
    "                   )\n",
    "                    ))\n",
    "        all_fitting = [[[x['diff'],x['Name']] for x in reduce(lambda x,y: x+y, [z['ranks'] for z in discraces],[]) if int(x['Rank'],10)==y] for y in xrange(1,MAX_RANK+1)]\n",
    "        average = [mean([y[0] for y in x]) for x in all_fitting]\n",
    "        cw.writerow([disc,'mean']+\n",
    "                    list(itertools.chain.from_iterable([\n",
    "                        [round(x,2),'%d. Platz' % (i+1)] for i,x in enumerate(average)\n",
    "                    ]))\n",
    "           )\n",
    "        for x in all_fitting:\n",
    "            diffs = [y[0] for y in x]\n",
    "            x_sorted = sorted(x, key=lambda y: y[0])\n",
    "            cw2.writerow([disc]+['%f:%s'%(y[0],y[1],) for y in x_sorted]+['||',mean(diffs),sorted(diffs)[int(math.floor(len(x)/2))]])"
   ]
  },
  {
   "cell_type": "markdown",
   "metadata": {
    "collapsed": false
   },
   "source": [
    "x"
   ]
  },
  {
   "cell_type": "markdown",
   "metadata": {
    "collapsed": false
   },
   "source": [
    "races_with_time = set([x['source_url'] for x in all_ergebnisse if 'rang' in x and x['rang'] and 'time' in x])\n",
    "races_witout_time = set([x['source_url'] for x in all_ergebnisse if  'rang' in x and  x['rang'] and not 'time' in x])"
   ]
  },
  {
   "cell_type": "markdown",
   "metadata": {
    "collapsed": false
   },
   "source": [
    "len(races_with_time & races_witout_time)"
   ]
  },
  {
   "cell_type": "markdown",
   "metadata": {
    "collapsed": false,
    "scrolled": true
   },
   "source": [
    "auswertungen = {\n",
    " '1': lambda x: x['Rank']=='1',\n",
    " '1 at': lambda x: x['Rank']=='1' and x['Nation']=='AUT',\n",
    " '2': lambda x: x['Rank']=='2',\n",
    " '2 at': lambda x: x['Rank']=='2' and x['Nation']=='AUT',\n",
    " '3': lambda x: x['Rank']=='3',\n",
    " '3 at': lambda x: x['Rank']=='3' and x['Nation']=='AUT',\n",
    "}\n",
    "\n",
    "all_by_disziplin = {k: list(v) for k,v in sortgroup(all_ergebnisse,\n",
    "                                                    lambda x: \n",
    "                                                    '%s (%s)' % (x['subevent_Discipline'],x['subevent_Gender'],)\n",
    "                                                   )}\n",
    "\n",
    "auswertungen_by_disziplin = {\n",
    "    k: {aname: len(list(x for x in v if aprop(x)))\n",
    "        for aname, aprop\n",
    "        in auswertungen.iteritems()\n",
    "       }\n",
    "    for k,v in all_by_disziplin.iteritems()\n",
    "}"
   ]
  },
  {
   "cell_type": "markdown",
   "metadata": {
    "collapsed": false
   },
   "source": [
    "with open('allraces.csv','w') as f:\n",
    "    cw = unicodecsv.writer(f)\n",
    "    cw.writerow(['Kategorie','Platz', 'Wert'])\n",
    "    for k,v in auswertungen_by_disziplin.iteritems():\n",
    "        for k2, v2 in v.iteritems():\n",
    "            cw.writerow([k,k2,v2])"
   ]
  },
  {
   "cell_type": "markdown",
   "metadata": {
    "collapsed": false,
    "scrolled": true
   },
   "source": [
    "all_ergebnisse[0]"
   ]
  },
  {
   "cell_type": "code",
   "execution_count": 8,
   "metadata": {
    "collapsed": false
   },
   "outputs": [
    {
     "name": "stdout",
     "output_type": "stream",
     "text": [
      "('success', datetime.datetime(2017, 2, 15, 15, 51, 36, 986776))\n"
     ]
    }
   ],
   "source": [
    "import datetime\n",
    "print('success',datetime.datetime.now())"
   ]
  }
 ],
 "metadata": {
  "kernelspec": {
   "display_name": "Python 2",
   "language": "python",
   "name": "python2"
  },
  "language_info": {
   "codemirror_mode": {
    "name": "ipython",
    "version": 2
   },
   "file_extension": ".py",
   "mimetype": "text/x-python",
   "name": "python",
   "nbconvert_exporter": "python",
   "pygments_lexer": "ipython2",
   "version": "2.7.12"
  }
 },
 "nbformat": 4,
 "nbformat_minor": 0
}
