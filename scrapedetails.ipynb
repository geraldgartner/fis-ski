{
 "cells": [
  {
   "cell_type": "code",
   "execution_count": 3,
   "metadata": {
    "collapsed": false
   },
   "outputs": [],
   "source": [
    "import requests\n",
    "import lxml.html as lh\n",
    "import unicodecsv\n",
    "from lxml.cssselect import CSSSelector\n",
    "import requests_cache\n",
    "import json\n",
    "\n",
    "requests_cache.install_cache('demo_cache')\n"
   ]
  },
  {
   "cell_type": "code",
   "execution_count": 2,
   "metadata": {
    "collapsed": true
   },
   "outputs": [],
   "source": [
    "all_data = []\n"
   ]
  },
  {
   "cell_type": "code",
   "execution_count": 6,
   "metadata": {
    "collapsed": false
   },
   "outputs": [
    {
     "name": "stdout",
     "output_type": "stream",
     "text": [
      "0\n",
      "100\n",
      "200\n",
      "300\n",
      "400\n",
      "500\n",
      "600\n",
      "700\n",
      "800\n",
      "900\n",
      "1000\n",
      "1100\n",
      "1200\n",
      "1300\n",
      "1400\n",
      "1500\n",
      "1600\n",
      "1700\n",
      "1800\n",
      "1900\n",
      "2000\n",
      "2100\n",
      "2200\n",
      "2300\n",
      "2400\n",
      "2500\n",
      "2600\n",
      "2700\n",
      "2800\n",
      "2900\n",
      "3000\n",
      "3100\n",
      "3200\n"
     ]
    }
   ],
   "source": [
    "s = requests.Session()\n",
    "s.mount('http://', requests.adapters.HTTPAdapter(max_retries=10))\n",
    "\n",
    "def read_lines(reader):\n",
    "    headers = reader.next()\n",
    "    for x in reader:\n",
    "        yield dict(zip(headers,x))\n",
    "    \n",
    "def stringify_children(node):\n",
    "    from lxml.etree import tostring\n",
    "    from itertools import chain\n",
    "    parts = ([node.text] +\n",
    "            list(chain(*([c.text,\n",
    "                          #tostring(c,method=\"text\",encoding=\"unicode\"),\n",
    "                          c.tail] for c in node.getchildren()))) +\n",
    "            [node.tail])\n",
    "    # filter removes possible Nones in texts and tails\n",
    "    return ''.join(filter(None, parts))\n",
    "    \n",
    "def extract_data(tr):\n",
    "    return [stringify_children(x).strip()\n",
    "            for x in \n",
    "            tr.xpath('./*[name()=\"th\" or name()=\"td\"]')]\n",
    "\n",
    "\n",
    "done_urls = []\n",
    "    \n",
    "\n",
    "with open('/media/sf_ddj/geschichten/2016-10-26-zeit-SpA/skilaeufer/refined/subpages.csv') as f:\n",
    "    l = read_lines(unicodecsv.reader(f))\n",
    "    for i,x in enumerate(l):\n",
    "        if i%100==0:\n",
    "            print i\n",
    "        if x['url'] in done_urls:\n",
    "            continue\n",
    "        rq = s.get(x['url'])\n",
    "        if rq.status_code!=200:\n",
    "            print x['url']\n",
    "            print rq\n",
    "            continue\n",
    "        root = lh.fromstring(rq.content)\n",
    "        tables = root.xpath('//div[contains(@class,\"bloc-tab\")]/table[contains(@class,\"footable\")]')\n",
    "        if len(tables)!=1:\n",
    "            print x['url'], tables\n",
    "            continue\n",
    "        \n",
    "        tbl = tables[0]\n",
    "        \n",
    "        trs = tbl.xpath('.//tr')\n",
    "        headers = extract_data(trs[0])\n",
    "        for tr in trs[1:]:\n",
    "             d = dict(zip(headers,extract_data(tr)))\n",
    "             d['source_url']=x['url']\n",
    "             all_data.append(d)\n",
    "        done_urls.append(x['url'])\n",
    "        \n",
    "        if i%100=0:\n",
    "            with open('done_urls.json','w') as f2:\n",
    "                json.dump(done_urls, f2)\n",
    "\n",
    "            with open('all_data.json','w') as f2:\n",
    "                json.dump(all_data, f2)\n",
    "                \n",
    "with open('done_urls.json','w') as f2:\n",
    "    json.dump(done_urls, f2)\n",
    "\n",
    "with open('all_data.json','w') as f2:\n",
    "    json.dump(all_data, f2)"
   ]
  },
  {
   "cell_type": "code",
   "execution_count": 5,
   "metadata": {
    "collapsed": true
   },
   "outputs": [],
   "source": [
    "?json.dump"
   ]
  },
  {
   "cell_type": "code",
   "execution_count": 8,
   "metadata": {
    "collapsed": false
   },
   "outputs": [
    {
     "name": "stdout",
     "output_type": "stream",
     "text": [
      "132313 3202\n"
     ]
    }
   ],
   "source": [
    "print len(all_data), len(done_urls)"
   ]
  },
  {
   "cell_type": "code",
   "execution_count": 9,
   "metadata": {
    "collapsed": true
   },
   "outputs": [],
   "source": [
    "all_keys = set()\n",
    "for x in all_data:\n",
    "    for k in x.keys():\n",
    "        all_keys.add(k)"
   ]
  },
  {
   "cell_type": "code",
   "execution_count": 11,
   "metadata": {
    "collapsed": false
   },
   "outputs": [],
   "source": [
    "all_keys = list(all_keys)"
   ]
  },
  {
   "cell_type": "code",
   "execution_count": null,
   "metadata": {
    "collapsed": true
   },
   "outputs": [],
   "source": [
    "with open('fin_output.csv','w') as of:\n",
    "    ow "
   ]
  }
 ],
 "metadata": {
  "kernelspec": {
   "display_name": "Python 2",
   "language": "python",
   "name": "python2"
  },
  "language_info": {
   "codemirror_mode": {
    "name": "ipython",
    "version": 2
   },
   "file_extension": ".py",
   "mimetype": "text/x-python",
   "name": "python",
   "nbconvert_exporter": "python",
   "pygments_lexer": "ipython2",
   "version": "2.7.12"
  }
 },
 "nbformat": 4,
 "nbformat_minor": 1
}
